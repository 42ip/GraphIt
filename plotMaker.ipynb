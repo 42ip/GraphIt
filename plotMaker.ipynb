{
 "cells": [
  {
   "cell_type": "code",
   "execution_count": 7,
   "source": [
    "import plotly.io as pio\n",
    "pio.renderers.default = \"browser\"\n"
   ],
   "outputs": [],
   "metadata": {}
  },
  {
   "cell_type": "code",
   "execution_count": 3,
   "source": [
    "import plotly.express as px\n",
    "import random\n",
    "import numpy as np\n",
    "import pandas as pd"
   ],
   "outputs": [],
   "metadata": {}
  },
  {
   "cell_type": "code",
   "execution_count": 4,
   "source": [
    "start = [int(x) for x in input('Enter the start coordinates:').split()]\n",
    "end = [int(x) for x in input('Enter the final coordinates:').split()]"
   ],
   "outputs": [],
   "metadata": {}
  },
  {
   "cell_type": "code",
   "execution_count": 5,
   "source": [
    "visited = set()\n",
    "arr = [(start[0],start[1],start[2]),(end[0] + 5,end[1] - 1,end[2] + 24),(end[0],end[1],end[2])]\n",
    "# df = pd.DataFrame(arr)\n",
    "# df.head()"
   ],
   "outputs": [],
   "metadata": {}
  },
  {
   "cell_type": "code",
   "execution_count": 11,
   "source": [
    "import plotly.graph_objects as go\n",
    "x = [x[0] for x in arr]\n",
    "y = [x[1] for x in arr]\n",
    "z = [x[2] for x in arr]\n",
    "df = pd.DataFrame()\n",
    "df['X'] = x\n",
    "df['Y'] = y\n",
    "df['Z'] = z\n",
    "print(df.head())\n",
    "fig = go.Figure(data=[go.Scatter3d(x=x, y=y, z=z,\n",
    "                                   mode='lines+markers')])\n",
    "fig.show()"
   ],
   "outputs": [
    {
     "output_type": "stream",
     "name": "stdout",
     "text": [
      "    X  Y   Z\n",
      "0   0  0   0\n",
      "1  15  6  27\n",
      "2  10  7   3\n"
     ]
    }
   ],
   "metadata": {}
  },
  {
   "cell_type": "code",
   "execution_count": null,
   "source": [],
   "outputs": [],
   "metadata": {}
  }
 ],
 "metadata": {
  "orig_nbformat": 4,
  "language_info": {
   "name": "python",
   "version": "3.9.5",
   "mimetype": "text/x-python",
   "codemirror_mode": {
    "name": "ipython",
    "version": 3
   },
   "pygments_lexer": "ipython3",
   "nbconvert_exporter": "python",
   "file_extension": ".py"
  },
  "kernelspec": {
   "name": "python3",
   "display_name": "Python 3.9.5 64-bit"
  },
  "interpreter": {
   "hash": "4cd7ab41f5fca4b9b44701077e38c5ffd31fe66a6cab21e0214b68d958d0e462"
  }
 },
 "nbformat": 4,
 "nbformat_minor": 2
}